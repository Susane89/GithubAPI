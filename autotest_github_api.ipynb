{
 "cells": [
  {
   "cell_type": "code",
   "execution_count": 1,
   "id": "1814dbb6",
   "metadata": {},
   "outputs": [
    {
     "name": "stdout",
     "output_type": "stream",
     "text": [
      "✅ Репозиторий test-repo-1 создан\n",
      "✅ Репозиторий test-repo-1 существует\n",
      "✅ Репозиторий test-repo-1 удален\n",
      "❌ Репозиторий test-repo-1 не найден\n"
     ]
    }
   ],
   "source": [
    "import os\n",
    "import requests\n",
    "from dotenv import load_dotenv\n",
    "\n",
    "load_dotenv(\"d.env\")\n",
    "\n",
    "# Конфигурация из переменных окружения\n",
    "GITHUB_USERNAME = os.getenv('GITHUB_USERNAME')\n",
    "GITHUB_TOKEN = os.getenv('GITHUB_TOKEN')\n",
    "REPO_NAME = os.getenv('REPO_NAME')\n",
    "\n",
    "API_URL = \"https://api.github.com\"\n",
    "HEADERS = {\n",
    "    \"Authorization\": f\"token {GITHUB_TOKEN}\",\n",
    "    \"Accept\": \"application/vnd.github.v3+json\"\n",
    "}\n",
    "\n",
    "def create_repo():\n",
    "    \"\"\"Создание нового публичного репозитория\"\"\"\n",
    "    url = f\"{API_URL}/user/repos\"\n",
    "    data = {\n",
    "        \"name\": REPO_NAME,\n",
    "        \"auto_init\": True,\n",
    "        \"private\": False\n",
    "    }\n",
    "    response = requests.post(url, json=data, headers=HEADERS)\n",
    "    response.raise_for_status()\n",
    "    print(f\"✅ Репозиторий {REPO_NAME} создан\")\n",
    "    return response.json()\n",
    "\n",
    "def check_repo_exists():\n",
    "    \"\"\"Проверка существования репозитория\"\"\"\n",
    "    url = f\"{API_URL}/repos/{GITHUB_USERNAME}/{REPO_NAME}\"\n",
    "    response = requests.get(url, headers=HEADERS)\n",
    "    if response.status_code == 200:\n",
    "        print(f\"✅ Репозиторий {REPO_NAME} существует\")\n",
    "        return True\n",
    "    print(f\"❌ Репозиторий {REPO_NAME} не найден\")\n",
    "    return False\n",
    "\n",
    "def delete_repo():\n",
    "    \"\"\"Удаление репозитория\"\"\"\n",
    "    url = f\"{API_URL}/repos/{GITHUB_USERNAME}/{REPO_NAME}\"\n",
    "    response = requests.delete(url, headers=HEADERS)\n",
    "    response.raise_for_status()\n",
    "    print(f\"✅ Репозиторий {REPO_NAME} удален\")\n",
    "\n",
    "def main():\n",
    "    try:\n",
    "        # Создание репозитория\n",
    "        create_repo()\n",
    "        \n",
    "        # Проверка существования\n",
    "        if check_repo_exists():\n",
    "            # Удаление репозитория\n",
    "            delete_repo()\n",
    "            # Проверка после удаления\n",
    "            check_repo_exists()\n",
    "    except requests.exceptions.RequestException as e:\n",
    "        print(f\"❌ Ошибка при работе с GitHub API: {e}\")\n",
    "\n",
    "if __name__ == \"__main__\":\n",
    "    main()"
   ]
  }
 ],
 "metadata": {
  "kernelspec": {
   "display_name": "Python 3",
   "language": "python",
   "name": "python3"
  },
  "language_info": {
   "codemirror_mode": {
    "name": "ipython",
    "version": 3
   },
   "file_extension": ".py",
   "mimetype": "text/x-python",
   "name": "python",
   "nbconvert_exporter": "python",
   "pygments_lexer": "ipython3",
   "version": "3.12.0"
  }
 },
 "nbformat": 4,
 "nbformat_minor": 5
}
